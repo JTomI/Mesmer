{
 "cells": [
  {
   "cell_type": "code",
   "execution_count": 11,
   "id": "fc0395e5",
   "metadata": {},
   "outputs": [],
   "source": [
    "import numpy as np\n",
    "import matplotlib.pyplot as plt"
   ]
  },
  {
   "cell_type": "code",
   "execution_count": 12,
   "id": "8da1c6fa",
   "metadata": {},
   "outputs": [],
   "source": [
    "def twogear(b_r=100,g1_r=75,g2_r=43,cycles=1,points=100):\n",
    "    theta = cycles*np.linspace(0,2*np.pi, points)\n",
    "    theta1 = cycles*np.linspace(0,(g1_r/b_r)*2*np.pi,points)\n",
    "    theta2 = cycles*np.linspace(0,(g2_r/g1_r)*2*np.pi,points)\n",
    "    \n",
    "    x = b_r*np.cos(theta)\n",
    "    y = b_r*np.sin(theta)\n",
    "    \n",
    "    x1 = g1_r*np.cos(theta1)+x\n",
    "    y1 = g1_r*np.sin(theta1)+y\n",
    "    \n",
    "    x2 = g2_r*np.cos(theta2)+x1\n",
    "    y2 = g2_r*np.sin(theta2)+y1\n",
    "    return x2,y2"
   ]
  },
  {
   "cell_type": "code",
   "execution_count": 13,
   "id": "dd687ecf",
   "metadata": {},
   "outputs": [],
   "source": [
    "x,y = twogear(g2_r=75,g1_r=50,cycles=1,points=1000)"
   ]
  },
  {
   "cell_type": "code",
   "execution_count": 14,
   "id": "07fb0552",
   "metadata": {},
   "outputs": [
    {
     "data": {
      "text/plain": [
       "[<matplotlib.lines.Line2D at 0x24b0a992490>]"
      ]
     },
     "execution_count": 14,
     "metadata": {},
     "output_type": "execute_result"
    },
    {
     "data": {
      "image/png": "[encoded data removed]",
      "text/plain": [
       "<Figure size 432x288 with 1 Axes>"
      ]
     },
     "metadata": {
      "needs_background": "light"
     },
     "output_type": "display_data"
    }
   ],
   "source": [
    "plt.plot(x,y)"
   ]
  },
  {
   "cell_type": "code",
   "execution_count": 9,
   "id": "a4611a61",
   "metadata": {},
   "outputs": [],
   "source": [
    "for i in range(len(g1)):\n",
    "    g1[i]=np.pad(g1[i],len(g3[i])-len(g1[i]),mode='edge')\n",
    "    g2[i]=np.pad(g2[i],len(g3[i])-len(g2[i]),mode='edge')"
   ]
  },
  {
   "cell_type": "code",
   "execution_count": 10,
   "id": "a8716faa",
   "metadata": {},
   "outputs": [
    {
     "name": "stdout",
     "output_type": "stream",
     "text": [
      "500 400 300\n"
     ]
    }
   ],
   "source": [
    "print(len(g1[0]),len(g2[0]),len(g3[0]))"
   ]
  },
  {
   "cell_type": "code",
   "execution_count": null,
   "id": "c984ea5c",
   "metadata": {},
   "outputs": [],
   "source": []
  },
  {
   "cell_type": "code",
   "execution_count": null,
   "id": "38c44799",
   "metadata": {},
   "outputs": [],
   "source": []
  }
 ],
 "metadata": {
  "kernelspec": {
   "display_name": "Python 3 (ipykernel)",
   "language": "python",
   "name": "python3"
  },
  "language_info": {
   "codemirror_mode": {
    "name": "ipython",
    "version": 3
   },
   "file_extension": ".py",
   "mimetype": "text/x-python",
   "name": "python",
   "nbconvert_exporter": "python",
   "pygments_lexer": "ipython3",
   "version": "3.9.12"
  }
 },
 "nbformat": 4,
 "nbformat_minor": 5
}
